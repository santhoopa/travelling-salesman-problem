{
 "cells": [
  {
   "cell_type": "markdown",
   "metadata": {},
   "source": [
    "# Travelling Salesman Problem "
   ]
  },
  {
   "cell_type": "code",
   "execution_count": 3,
   "metadata": {},
   "outputs": [
    {
     "name": "stdout",
     "output_type": "stream",
     "text": [
      "1. Found the optimal path for 4 cities in 0.0 seconds.Path: [0, 2, 1, 3, 0] Distance: 125\n",
      "2. Found the optimal path for 5 cities in 0.0 seconds.Path: [0, 3, 4, 1, 2, 0] Distance: 289\n",
      "3. Found the optimal path for 6 cities in 0.0 seconds.Path: [0, 1, 4, 3, 5, 2, 0] Distance: 248\n",
      "4. Found the optimal path for 7 cities in 0.006 seconds.Path: [0, 5, 1, 6, 2, 4, 3, 0] Distance: 211\n",
      "5. Found the optimal path for 8 cities in 0.021 seconds.Path: [0, 6, 7, 3, 4, 2, 5, 1, 0] Distance: 264\n",
      "6. Found the optimal path for 9 cities in 0.1707 seconds.Path: [0, 5, 3, 4, 2, 1, 6, 7, 8, 0] Distance: 302\n",
      "7. Found the optimal path for 10 cities in 1.5947 seconds.Path: [0, 4, 2, 6, 5, 1, 7, 3, 8, 9, 0] Distance: 260\n",
      "8. Found the optimal path for 11 cities in 18.7938 seconds.Path: [0, 7, 5, 3, 2, 9, 6, 4, 8, 10, 1, 0] Distance: 284\n"
     ]
    },
    {
     "data": {
      "image/png": "[encoded data removed]",
      "text/plain": [
       "<Figure size 432x288 with 1 Axes>"
      ]
     },
     "metadata": {
      "needs_background": "light"
     },
     "output_type": "display_data"
    }
   ],
   "source": [
    "import numpy as np\n",
    "from scipy.spatial.distance import squareform\n",
    "from time import time\n",
    "import sys\n",
    "import matplotlib.pyplot as plt\n",
    "\n",
    "def generator(no_of_cities):\n",
    "    # This function takes the number of cities as the input and returns a matrix containng random distances between the cities\n",
    "    final_list=[]\n",
    "    n = no_of_cities\n",
    "\n",
    "    for x in range(no_of_cities-1):\n",
    "        arr = np.random.randint(low=10, high=100, size=n-1)\n",
    "        n = (n-1)\n",
    "        final_list.append(arr.tolist())\n",
    "\n",
    "    raw = np.array(final_list)\n",
    "    final = squareform(np.hstack(raw))\n",
    "    return final\n",
    "\n",
    "\n",
    "def permutations(elements):\n",
    "    # This function takes number of cities as the input and returns the all the possible permutations\n",
    "    if len(elements) <=1:\n",
    "        yield elements\n",
    "    else:\n",
    "        for perm in permutations(elements[1:]):\n",
    "            for i in range(len(elements)):\n",
    "                yield perm[:i] + elements[0:1] + perm[i:]\n",
    "                \n",
    "               \n",
    "def tsp_algorithm(cities, distances):\n",
    "    # Input - Takes the number of cities and the distance matrix as the input\n",
    "    # Output - Retturns the optimal path and the distance\n",
    "    city_num_array = np.arange(1,cities)\n",
    "    city_num_list = city_num_array.tolist()\n",
    "    list_perm = list(permutations(city_num_list))\n",
    "    for element in list_perm:\n",
    "        element.insert(0, 0)\n",
    "        element.append(0)\n",
    "   \n",
    "    minimum_distance = sys.maxsize\n",
    "    optimal_path = []\n",
    "    for path_index,path in enumerate(list_perm):\n",
    "        path_length = len(path)\n",
    "        previous = 0\n",
    "        current = 0\n",
    "        distance = 0\n",
    "        for city_index, item in enumerate(path):\n",
    "            if(city_index == 0):\n",
    "                continue\n",
    "            current = item\n",
    "            distance+=distances[previous][current]\n",
    "            previous = current\n",
    "        if(distance < minimum_distance):\n",
    "            minimum_distance = distance\n",
    "            optimal_path = path\n",
    "       \n",
    "    return minimum_distance,optimal_path\n",
    "\n",
    "\n",
    "n = 4\n",
    "x_n = []\n",
    "y_time = []\n",
    "for x in range(8):\n",
    "    start = time()\n",
    "    distancesa = generator(n)\n",
    "    dis,path = tsp_algorithm(n,distancesa)\n",
    "    end = time()\n",
    "    total_time = end - start\n",
    "    print( \"%s. Found the optimal path for %s cities in %s seconds.Path: %s Distance: %s\" % ( x+1, round(n,4), round(total_time, 4), path, dis ) )\n",
    "    x_n.append(n)\n",
    "    y_time.append(round(total_time,4))\n",
    "    n = n + 1\n",
    "    \n",
    "plt.plot(x_n,y_time)\n",
    "plt.xlabel('Number of cities')\n",
    "plt.ylabel('Execution Time')\n",
    "plt.grid(True)\n",
    "plt.show()\n",
    "\n"
   ]
  },
  {
   "cell_type": "markdown",
   "metadata": {},
   "source": [
    "This repo contains an introduction to [Jupyter](https://jupyter.org) and [IPython](https://ipython.org).\n",
    "\n",
    "Outline of some basics:\n",
    "\n",
    "* [Notebook Basics](../examples/Notebook/Notebook%20Basics.ipynb)\n",
    "* [IPython - beyond plain python](../examples/IPython%20Kernel/Beyond%20Plain%20Python.ipynb)\n",
    "* [Markdown Cells](../examples/Notebook/Working%20With%20Markdown%20Cells.ipynb)\n",
    "* [Rich Display System](../examples/IPython%20Kernel/Rich%20Output.ipynb)\n",
    "* [Custom Display logic](../examples/IPython%20Kernel/Custom%20Display%20Logic.ipynb)\n",
    "* [Running a Secure Public Notebook Server](../examples/Notebook/Running%20the%20Notebook%20Server.ipynb#Securing-the-notebook-server)\n",
    "* [How Jupyter works](../examples/Notebook/Multiple%20Languages%2C%20Frontends.ipynb) to run code in different languages."
   ]
  },
  {
   "cell_type": "markdown",
   "metadata": {},
   "source": [
    "You can also get this tutorial and run it on your laptop:\n",
    "\n",
    "    git clone https://github.com/ipython/ipython-in-depth\n",
    "\n",
    "Install IPython and Jupyter:\n",
    "\n",
    "with [conda](https://www.anaconda.com/download):\n",
    "\n",
    "    conda install ipython jupyter\n",
    "\n",
    "with pip:\n",
    "\n",
    "    # first, always upgrade pip!\n",
    "    pip install --upgrade pip\n",
    "    pip install --upgrade ipython jupyter\n",
    "\n",
    "Start the notebook in the tutorial directory:\n",
    "\n",
    "    cd ipython-in-depth\n",
    "    jupyter notebook"
   ]
  }
 ],
 "metadata": {
  "kernelspec": {
   "display_name": "Python 3",
   "language": "python",
   "name": "python3"
  },
  "language_info": {
   "codemirror_mode": {
    "name": "ipython",
    "version": 3
   },
   "file_extension": ".py",
   "mimetype": "text/x-python",
   "name": "python",
   "nbconvert_exporter": "python",
   "pygments_lexer": "ipython3",
   "version": "3.7.1"
  }
 },
 "nbformat": 4,
 "nbformat_minor": 2
}
